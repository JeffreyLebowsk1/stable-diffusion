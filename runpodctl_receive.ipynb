{
  "nbformat": 4,
  "nbformat_minor": 0,
  "metadata": {
    "colab": {
      "private_outputs": true,
      "provenance": [],
      "include_colab_link": true
    },
    "kernelspec": {
      "name": "python3",
      "display_name": "Python 3"
    },
    "language_info": {
      "name": "python"
    }
  },
  "cells": [
    {
      "cell_type": "markdown",
      "metadata": {
        "id": "view-in-github",
        "colab_type": "text"
      },
      "source": [
        "<a href=\"https://colab.research.google.com/github/JeffreyLebowsk1/stable-diffusion/blob/main/runpodctl_receive.ipynb\" target=\"_parent\"><img src=\"https://colab.research.google.com/assets/colab-badge.svg\" alt=\"Open In Colab\"/></a>"
      ]
    },
    {
      "cell_type": "code",
      "source": [
        "#@title Mount Drive\n",
        "from google.colab import drive\n",
        "drive.mount('/content/drive')\n",
        "!rm -rf /content/sample_data/"
      ],
      "metadata": {
        "id": "FrqFppynQHGY"
      },
      "execution_count": null,
      "outputs": []
    },
    {
      "cell_type": "code",
      "execution_count": null,
      "metadata": {
        "id": "RF1bMqhBOpSZ"
      },
      "outputs": [],
      "source": [
        "#@title install runpodctl\n",
        "!wget --quiet --show-progress https://github.com/Run-Pod/runpodctl/releases/download/v1.8.0/runpodctl-linux-amd -O runpodctl\n",
        "!chmod +x runpodctl\n",
        "!cp runpodctl /usr/bin/runpodctl"
      ]
    },
    {
      "cell_type": "code",
      "source": [
        "#@title Receive a file\n",
        "# Open a terminal in your pod and type\n",
        "# runpodctl send REPLACE_WITH_FILENAME/FOLDER\n",
        "# It will give you a code, put it to the left and run this cell to receive it\n",
        "file_code = \"8118-motor-pocket-orchid-5\" #@param {type:\"string\"}\n",
        "\n",
        "%cd /content/drive/MyDrive/runpod-download/\n",
        "!runpodctl receive {file_code}"
      ],
      "metadata": {
        "id": "IwtfY_3bQVqB"
      },
      "execution_count": null,
      "outputs": []
    }
  ]
}